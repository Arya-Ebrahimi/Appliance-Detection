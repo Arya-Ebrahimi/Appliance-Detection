{
  "nbformat": 4,
  "nbformat_minor": 0,
  "metadata": {
    "colab": {
      "provenance": [],
      "gpuType": "T4"
    },
    "kernelspec": {
      "name": "python3",
      "display_name": "Python 3"
    },
    "language_info": {
      "name": "python"
    },
    "accelerator": "GPU"
  },
  "cells": [
    {
      "cell_type": "code",
      "execution_count": 1,
      "metadata": {
        "id": "J4aQ242o02-0"
      },
      "outputs": [],
      "source": [
        "import matplotlib.pyplot as plt\n",
        "import tensorflow as tf\n",
        "import tensorflow.keras.layers as layers\n",
        "import numpy as np\n",
        "import gc"
      ]
    },
    {
      "cell_type": "code",
      "source": [
        "!wget --load-cookies /tmp/cookies.txt \"https://docs.google.com/uc?export=download&confirm=$(wget --quiet --save-cookies /tmp/cookies.txt --keep-session-cookies --no-check-certificate 'https://docs.google.com/uc?export=download&id=1-ld_9pw4LMdMZsPPoqWbwUVRyF-KFLcM' -O- | sed -rn 's/.*confirm=([0-9A-Za-z_]+).*/\\1\\n/p')&id=1-ld_9pw4LMdMZsPPoqWbwUVRyF-KFLcM\" -O resized_data.zip && rm -rf /tmp/cookies.txt"
      ],
      "metadata": {
        "colab": {
          "base_uri": "https://localhost:8080/"
        },
        "id": "ysv-JNU81v6G",
        "outputId": "33b01463-40fa-4bf0-b359-2903a22c3e09"
      },
      "execution_count": 2,
      "outputs": [
        {
          "output_type": "stream",
          "name": "stdout",
          "text": [
            "--2023-07-03 15:41:51--  https://docs.google.com/uc?export=download&confirm=&id=1-ld_9pw4LMdMZsPPoqWbwUVRyF-KFLcM\n",
            "Resolving docs.google.com (docs.google.com)... 172.253.117.139, 172.253.117.138, 172.253.117.101, ...\n",
            "Connecting to docs.google.com (docs.google.com)|172.253.117.139|:443... connected.\n",
            "HTTP request sent, awaiting response... 303 See Other\n",
            "Location: https://doc-14-8g-docs.googleusercontent.com/docs/securesc/ha0ro937gcuc7l7deffksulhg5h7mbp1/sh12bkvp6r76n1qg1pgm1vobrq2tjapk/1688398875000/04268100670184909597/*/1-ld_9pw4LMdMZsPPoqWbwUVRyF-KFLcM?e=download&uuid=79ae46f2-ccc1-43ec-acfd-dad4fab7ee39 [following]\n",
            "Warning: wildcards not supported in HTTP.\n",
            "--2023-07-03 15:41:56--  https://doc-14-8g-docs.googleusercontent.com/docs/securesc/ha0ro937gcuc7l7deffksulhg5h7mbp1/sh12bkvp6r76n1qg1pgm1vobrq2tjapk/1688398875000/04268100670184909597/*/1-ld_9pw4LMdMZsPPoqWbwUVRyF-KFLcM?e=download&uuid=79ae46f2-ccc1-43ec-acfd-dad4fab7ee39\n",
            "Resolving doc-14-8g-docs.googleusercontent.com (doc-14-8g-docs.googleusercontent.com)... 172.253.117.132, 2607:f8b0:400e:c0a::84\n",
            "Connecting to doc-14-8g-docs.googleusercontent.com (doc-14-8g-docs.googleusercontent.com)|172.253.117.132|:443... connected.\n",
            "HTTP request sent, awaiting response... 200 OK\n",
            "Length: 3638736 (3.5M) [application/zip]\n",
            "Saving to: ‘resized_data.zip’\n",
            "\n",
            "resized_data.zip    100%[===================>]   3.47M  --.-KB/s    in 0.02s   \n",
            "\n",
            "2023-07-03 15:41:56 (193 MB/s) - ‘resized_data.zip’ saved [3638736/3638736]\n",
            "\n"
          ]
        }
      ]
    },
    {
      "cell_type": "code",
      "source": [
        "!rm -r data"
      ],
      "metadata": {
        "id": "HF6kKi07_QCV",
        "colab": {
          "base_uri": "https://localhost:8080/"
        },
        "outputId": "b5b49180-de81-4f65-ed86-751c3352693d"
      },
      "execution_count": 3,
      "outputs": [
        {
          "output_type": "stream",
          "name": "stdout",
          "text": [
            "rm: cannot remove 'data': No such file or directory\n"
          ]
        }
      ]
    },
    {
      "cell_type": "code",
      "source": [
        "!mkdir data && cd data && unzip -q ../resized_data.zip"
      ],
      "metadata": {
        "id": "InvVr9Tm1yCd"
      },
      "execution_count": 4,
      "outputs": []
    },
    {
      "cell_type": "code",
      "source": [
        "train_set = tf.keras.utils.image_dataset_from_directory(\n",
        "    directory='data/',\n",
        "    labels='inferred',\n",
        "    label_mode='categorical',\n",
        "    batch_size=32,\n",
        "    image_size=((148, 32)),\n",
        "    validation_split=0.2,\n",
        "    subset='training',\n",
        "    seed=123,\n",
        "    shuffle=True,\n",
        ")\n",
        "\n",
        "\n",
        "validation_set = tf.keras.utils.image_dataset_from_directory(\n",
        "    directory='data/',\n",
        "    labels='inferred',\n",
        "    label_mode='categorical',\n",
        "    batch_size=32,\n",
        "    image_size=((148, 32)),\n",
        "    validation_split=0.2,\n",
        "    subset='validation',\n",
        "    seed=123,\n",
        "    shuffle=True,\n",
        ")"
      ],
      "metadata": {
        "colab": {
          "base_uri": "https://localhost:8080/"
        },
        "id": "6tAYPUlM0_uJ",
        "outputId": "d8916dcc-3da9-4e0a-ad1c-521c75a2ac66"
      },
      "execution_count": 5,
      "outputs": [
        {
          "output_type": "stream",
          "name": "stdout",
          "text": [
            "Found 1345 files belonging to 4 classes.\n",
            "Using 1076 files for training.\n",
            "Found 1345 files belonging to 4 classes.\n",
            "Using 269 files for validation.\n"
          ]
        }
      ]
    },
    {
      "cell_type": "code",
      "source": [
        "resize_and_rescale = tf.keras.Sequential([\n",
        "  layers.Rescaling(1./255)\n",
        "])\n",
        "\n",
        "data_augmentation = tf.keras.Sequential([\n",
        "  layers.RandomCrop(128, 32),\n",
        "])"
      ],
      "metadata": {
        "id": "FmJhqJkqjl_j"
      },
      "execution_count": 6,
      "outputs": []
    },
    {
      "cell_type": "code",
      "source": [
        "aug_ds = train_set.map(\n",
        "  lambda x, y: (resize_and_rescale(x, training=True), y))\n",
        "\n",
        "x_train = aug_ds.map(lambda x, y: (data_augmentation(x, training=True), y))"
      ],
      "metadata": {
        "id": "XwEBj-RhjwTH"
      },
      "execution_count": 7,
      "outputs": []
    },
    {
      "cell_type": "code",
      "source": [
        "for i in range(4):\n",
        "    y = aug_ds.map(\n",
        "        lambda x, y: (data_augmentation(x, training=True), y))\n",
        "\n",
        "    x_train = x_train.concatenate(y)"
      ],
      "metadata": {
        "id": "EXE5Jr9tl6yk"
      },
      "execution_count": 8,
      "outputs": []
    },
    {
      "cell_type": "code",
      "source": [
        "val_aug_ds = validation_set.map(\n",
        "  lambda x, y: (resize_and_rescale(x, training=True), y))\n",
        "\n",
        "val = val_aug_ds.map(lambda x, y: (data_augmentation(x, training=True), y))"
      ],
      "metadata": {
        "id": "j5TOSLHStpYH"
      },
      "execution_count": 9,
      "outputs": []
    },
    {
      "cell_type": "code",
      "source": [
        "for i in range(4):\n",
        "    y = val_aug_ds.map(\n",
        "        lambda x, y: (data_augmentation(x, training=True), y))\n",
        "\n",
        "    val = val.concatenate(y)"
      ],
      "metadata": {
        "id": "C2uYauxItpYI"
      },
      "execution_count": 10,
      "outputs": []
    },
    {
      "cell_type": "code",
      "source": [
        "model = tf.keras.Sequential(\n",
        "    [\n",
        "        tf.keras.Input(shape=(128, 32, 3)),\n",
        "        layers.Conv2D(64, kernel_size=(3, 3), activation=\"relu\"),\n",
        "        layers.MaxPooling2D(pool_size=(2, 2)),\n",
        "        layers.Conv2D(128, kernel_size=(3, 3), activation=\"relu\"),\n",
        "        layers.MaxPooling2D(pool_size=(2, 2)),\n",
        "        layers.Conv2D(64, kernel_size=(3, 3), activation=\"relu\"),\n",
        "        layers.MaxPooling2D(pool_size=(2, 2)),\n",
        "        layers.Flatten(),\n",
        "        layers.Dropout(0.4),\n",
        "        layers.Dense(4, activation=\"softmax\"),\n",
        "    ]\n",
        ")\n",
        "\n",
        "model.summary()"
      ],
      "metadata": {
        "colab": {
          "base_uri": "https://localhost:8080/"
        },
        "id": "3bq8Va32LeoS",
        "outputId": "ee50785c-510a-4437-974c-8d3ad4a59f97"
      },
      "execution_count": 13,
      "outputs": [
        {
          "output_type": "stream",
          "name": "stdout",
          "text": [
            "Model: \"sequential_3\"\n",
            "_________________________________________________________________\n",
            " Layer (type)                Output Shape              Param #   \n",
            "=================================================================\n",
            " conv2d_3 (Conv2D)           (None, 126, 30, 64)       1792      \n",
            "                                                                 \n",
            " max_pooling2d_3 (MaxPooling  (None, 63, 15, 64)       0         \n",
            " 2D)                                                             \n",
            "                                                                 \n",
            " conv2d_4 (Conv2D)           (None, 61, 13, 128)       73856     \n",
            "                                                                 \n",
            " max_pooling2d_4 (MaxPooling  (None, 30, 6, 128)       0         \n",
            " 2D)                                                             \n",
            "                                                                 \n",
            " conv2d_5 (Conv2D)           (None, 28, 4, 64)         73792     \n",
            "                                                                 \n",
            " max_pooling2d_5 (MaxPooling  (None, 14, 2, 64)        0         \n",
            " 2D)                                                             \n",
            "                                                                 \n",
            " flatten_1 (Flatten)         (None, 1792)              0         \n",
            "                                                                 \n",
            " dropout_1 (Dropout)         (None, 1792)              0         \n",
            "                                                                 \n",
            " dense_1 (Dense)             (None, 4)                 7172      \n",
            "                                                                 \n",
            "=================================================================\n",
            "Total params: 156,612\n",
            "Trainable params: 156,612\n",
            "Non-trainable params: 0\n",
            "_________________________________________________________________\n"
          ]
        }
      ]
    },
    {
      "cell_type": "code",
      "source": [
        "batch_size = 128\n",
        "epochs = 15\n",
        "\n",
        "model.compile(loss=\"categorical_crossentropy\", optimizer=\"adam\", metrics=[\"accuracy\"])\n",
        "\n",
        "model.fit(x_train, batch_size=batch_size, epochs=epochs, validation_data=val)"
      ],
      "metadata": {
        "colab": {
          "base_uri": "https://localhost:8080/"
        },
        "id": "lI4nEa9CMB6U",
        "outputId": "aa638bb7-6c13-4ec1-8d46-b929bea27d10"
      },
      "execution_count": 14,
      "outputs": [
        {
          "output_type": "stream",
          "name": "stdout",
          "text": [
            "Epoch 1/15\n",
            "170/170 [==============================] - 16s 26ms/step - loss: 0.1795 - accuracy: 0.9353 - val_loss: 0.0372 - val_accuracy: 0.9859\n",
            "Epoch 2/15\n",
            "170/170 [==============================] - 4s 23ms/step - loss: 0.0694 - accuracy: 0.9777 - val_loss: 0.0243 - val_accuracy: 0.9941\n",
            "Epoch 3/15\n",
            "170/170 [==============================] - 5s 30ms/step - loss: 0.0505 - accuracy: 0.9846 - val_loss: 0.0120 - val_accuracy: 0.9970\n",
            "Epoch 4/15\n",
            "170/170 [==============================] - 4s 20ms/step - loss: 0.0270 - accuracy: 0.9920 - val_loss: 0.0097 - val_accuracy: 0.9963\n",
            "Epoch 5/15\n",
            "170/170 [==============================] - 3s 19ms/step - loss: 0.0347 - accuracy: 0.9894 - val_loss: 0.0069 - val_accuracy: 0.9970\n",
            "Epoch 6/15\n",
            "170/170 [==============================] - 5s 27ms/step - loss: 0.0299 - accuracy: 0.9929 - val_loss: 0.0047 - val_accuracy: 0.9985\n",
            "Epoch 7/15\n",
            "170/170 [==============================] - 3s 20ms/step - loss: 0.0212 - accuracy: 0.9928 - val_loss: 0.0207 - val_accuracy: 0.9918\n",
            "Epoch 8/15\n",
            "170/170 [==============================] - 4s 25ms/step - loss: 0.0175 - accuracy: 0.9941 - val_loss: 9.3851e-04 - val_accuracy: 1.0000\n",
            "Epoch 9/15\n",
            "170/170 [==============================] - 4s 26ms/step - loss: 0.0145 - accuracy: 0.9946 - val_loss: 0.0014 - val_accuracy: 1.0000\n",
            "Epoch 10/15\n",
            "170/170 [==============================] - 5s 27ms/step - loss: 0.0241 - accuracy: 0.9928 - val_loss: 0.0067 - val_accuracy: 0.9985\n",
            "Epoch 11/15\n",
            "170/170 [==============================] - 5s 30ms/step - loss: 0.0105 - accuracy: 0.9972 - val_loss: 0.0067 - val_accuracy: 0.9955\n",
            "Epoch 12/15\n",
            "170/170 [==============================] - 4s 23ms/step - loss: 0.0123 - accuracy: 0.9965 - val_loss: 0.0031 - val_accuracy: 0.9985\n",
            "Epoch 13/15\n",
            "170/170 [==============================] - 4s 23ms/step - loss: 0.0117 - accuracy: 0.9955 - val_loss: 0.0072 - val_accuracy: 0.9955\n",
            "Epoch 14/15\n",
            "170/170 [==============================] - 4s 22ms/step - loss: 0.0047 - accuracy: 0.9989 - val_loss: 0.0011 - val_accuracy: 1.0000\n",
            "Epoch 15/15\n",
            "170/170 [==============================] - 3s 20ms/step - loss: 0.0093 - accuracy: 0.9980 - val_loss: 3.6488e-04 - val_accuracy: 1.0000\n"
          ]
        },
        {
          "output_type": "execute_result",
          "data": {
            "text/plain": [
              "<keras.callbacks.History at 0x7fdd944f0790>"
            ]
          },
          "metadata": {},
          "execution_count": 14
        }
      ]
    },
    {
      "cell_type": "code",
      "source": [
        "model.save('iot_model.h5')"
      ],
      "metadata": {
        "id": "LslXByRopgsF"
      },
      "execution_count": 15,
      "outputs": []
    },
    {
      "cell_type": "code",
      "source": [],
      "metadata": {
        "id": "L8lWSEoKrMcs"
      },
      "execution_count": null,
      "outputs": []
    }
  ]
}